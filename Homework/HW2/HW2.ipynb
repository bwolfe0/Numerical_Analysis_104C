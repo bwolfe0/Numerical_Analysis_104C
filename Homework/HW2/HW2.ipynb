{
 "cells": [
  {
   "cell_type": "code",
   "execution_count": 2,
   "metadata": {},
   "outputs": [
    {
     "data": {
      "text/plain": [
       "{P1x: 13/3, P1y: 5/3, P2x: 16/3, P2y: 5/3, P3x: 8, P3y: 5}"
      ]
     },
     "execution_count": 2,
     "metadata": {},
     "output_type": "execute_result"
    }
   ],
   "source": [
    "from sympy import symbols, Eq, solve\n",
    "\n",
    "# Define the symbols for the control points\n",
    "P0x, P1x, P2x, P3x, P0y, P1y, P2y, P3y = symbols('P0x P1x P2x P3x P0y P1y P2y P3y')\n",
    "\n",
    "# Given endpoint P0 and P3\n",
    "P0x_value = 3\n",
    "P0y_value = 2\n",
    "\n",
    "# Equations for x(t) based on the Bézier curve\n",
    "eq1 = Eq(-3*P0x_value + 3*P1x, 4)   # Coefficient of t\n",
    "eq2 = Eq(3*P0x_value - 6*P1x + 3*P2x, -1)  # Coefficient of t^2\n",
    "eq3 = Eq(-P0x_value + 3*P1x - 3*P2x + P3x, 2)  # Coefficient of t^3\n",
    "\n",
    "# Equations for y(t) based on the Bézier curve\n",
    "eq4 = Eq(-3*P0y_value + 3*P1y, -1)   # Coefficient of t\n",
    "eq5 = Eq(3*P0y_value - 6*P1y + 3*P2y, 1)  # Coefficient of t^2\n",
    "eq6 = Eq(-P0y_value + 3*P1y - 3*P2y + P3y, 3)  # Coefficient of t^3\n",
    "\n",
    "# Solve the equations to find the control points\n",
    "solution = solve((eq1, eq2, eq3, eq4, eq5, eq6), (P1x, P2x, P3x, P1y, P2y, P3y))\n",
    "solution\n"
   ]
  },
  {
   "cell_type": "code",
   "execution_count": null,
   "metadata": {},
   "outputs": [],
   "source": []
  }
 ],
 "metadata": {
  "kernelspec": {
   "display_name": ".venv",
   "language": "python",
   "name": "python3"
  },
  "language_info": {
   "codemirror_mode": {
    "name": "ipython",
    "version": 3
   },
   "file_extension": ".py",
   "mimetype": "text/x-python",
   "name": "python",
   "nbconvert_exporter": "python",
   "pygments_lexer": "ipython3",
   "version": "3.10.2"
  },
  "orig_nbformat": 4,
  "vscode": {
   "interpreter": {
    "hash": "8ee9667ba3bbd897f72f7fed856faa8f88e2b94b92926ffb355411b300d19495"
   }
  }
 },
 "nbformat": 4,
 "nbformat_minor": 2
}
