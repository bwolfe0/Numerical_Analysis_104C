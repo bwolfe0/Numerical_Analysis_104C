{
 "cells": [
  {
   "attachments": {},
   "cell_type": "markdown",
   "metadata": {},
   "source": [
    "# Question 2"
   ]
  },
  {
   "attachments": {},
   "cell_type": "markdown",
   "metadata": {},
   "source": [
    "## Part a"
   ]
  },
  {
   "cell_type": "code",
   "execution_count": 57,
   "metadata": {},
   "outputs": [
    {
     "name": "stdout",
     "output_type": "stream",
     "text": [
      "[0.5+0.j 0.5-0.j 0. +0.j 0.5-0.j]\n",
      "[ 0.35+0.j  0.  +0.j  1.06-0.j -0.  +0.j  0.35+0.j  0.  +0.j  1.06-0.j\n",
      " -0.  +0.j]\n"
     ]
    }
   ],
   "source": [
    "import numpy as np\n",
    "from numpy import sqrt, exp, pi\n",
    "\n",
    "def DFT(x):\n",
    "    n = len(x)\n",
    "    \n",
    "    w = np.exp(2.*np.pi*1j/n)\n",
    "\n",
    "    # intermediate power array (0, 1, 2, .., n)\n",
    "    k = np.arange(n)\n",
    "\n",
    "    # 2d array of powers for DFT \n",
    "    pow = k.reshape((-1,1)) * k.reshape((1,-1))\n",
    "\n",
    "    # Fourier matrix of dimension n\n",
    "    F = w**pow\n",
    "\n",
    "    return 1/sqrt(n) * F @ x\n",
    "\n",
    "u = np.array([.75, .25, -.25, .25])\n",
    "v = np.array([1., 0., -.5, 0., 1., 0., -.5, 0.])\n",
    "\n",
    "y1 = DFT(u)\n",
    "y2 = DFT(v)\n",
    "\n",
    "with np.printoptions(precision=2, suppress=True):\n",
    "    print(y1)\n",
    "    print(y2)"
   ]
  },
  {
   "attachments": {},
   "cell_type": "markdown",
   "metadata": {},
   "source": [
    "## Part b"
   ]
  },
  {
   "cell_type": "code",
   "execution_count": 58,
   "metadata": {},
   "outputs": [
    {
     "name": "stdout",
     "output_type": "stream",
     "text": [
      "Verify that y1_0 is real: True\n",
      "Verify that y2_0 is real: True\n",
      "\n",
      "Verify that y1_(n-k) = conj(y1_k):\n",
      "k = 1: True\n",
      "k = 2: True\n",
      "k = 3: True\n",
      "\n",
      "Verify that y2_(n-k) = conj(y2_k):\n",
      "k = 1: True\n",
      "k = 2: True\n",
      "k = 3: True\n",
      "k = 4: True\n",
      "k = 5: True\n",
      "k = 6: True\n",
      "k = 7: True\n"
     ]
    }
   ],
   "source": [
    "# Part i)\n",
    "print(f\"Verify that y1_0 is real: {np.imag(y1[0]) == 0.}\")\n",
    "print(f\"Verify that y2_0 is real: {np.imag(y2[0]) == 0.}\")\n",
    "print(\"\")\n",
    "\n",
    "# Part ii)\n",
    "n = len(u)\n",
    "\n",
    "print(\"Verify that y1_(n-k) = conj(y1_k):\")\n",
    "for k in range(1, n):\n",
    "    print(f\"k = {k}: {np.isclose(y1[n-k], np.conj(y1[k]))}\")\n",
    "\n",
    "print(\"\")\n",
    "\n",
    "n = len(v)\n",
    "print(\"Verify that y2_(n-k) = conj(y2_k):\")\n",
    "for k in range(1, n):\n",
    "    print(f\"k = {k}: {np.isclose(y2[n-k], np.conj(y2[k]))}\")"
   ]
  },
  {
   "attachments": {},
   "cell_type": "markdown",
   "metadata": {},
   "source": [
    "## Part c"
   ]
  },
  {
   "cell_type": "code",
   "execution_count": 59,
   "metadata": {},
   "outputs": [
    {
     "name": "stdout",
     "output_type": "stream",
     "text": [
      "Check that inverse_DFT(DFT(u)) = u: True\n"
     ]
    }
   ],
   "source": [
    "def inverse_DFT(x,y):\n",
    "    n = len(x)\n",
    "    \n",
    "    w = np.exp(2.*np.pi*1j/n)\n",
    "\n",
    "    # intermediate power array (0, 1, 2, .., n)\n",
    "    k = np.arange(n)\n",
    "\n",
    "    # 2d array of powers for DFT \n",
    "    pow = k.reshape((-1,1)) * k.reshape((1,-1))\n",
    "\n",
    "    # Fourier matrix of dimension n\n",
    "    F = w**pow\n",
    "\n",
    "    return 1/sqrt(n) * np.conjugate(F) @ y\n",
    "\n",
    "idft_u = inverse_DFT(u,y1)\n",
    "\n",
    "with np.printoptions(precision=2, suppress=True):\n",
    "    print(f\"Check that inverse_DFT(DFT(u)) = u: {np.allclose(idft_u,u)}\")"
   ]
  }
 ],
 "metadata": {
  "kernelspec": {
   "display_name": ".venv",
   "language": "python",
   "name": "python3"
  },
  "language_info": {
   "codemirror_mode": {
    "name": "ipython",
    "version": 3
   },
   "file_extension": ".py",
   "mimetype": "text/x-python",
   "name": "python",
   "nbconvert_exporter": "python",
   "pygments_lexer": "ipython3",
   "version": "3.10.2 (v3.10.2:a58ebcc701, Jan 13 2022, 14:50:16) [Clang 13.0.0 (clang-1300.0.29.30)]"
  },
  "orig_nbformat": 4,
  "vscode": {
   "interpreter": {
    "hash": "8ee9667ba3bbd897f72f7fed856faa8f88e2b94b92926ffb355411b300d19495"
   }
  }
 },
 "nbformat": 4,
 "nbformat_minor": 2
}
