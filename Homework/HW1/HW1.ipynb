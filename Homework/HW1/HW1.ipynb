{
 "cells": [
  {
   "cell_type": "code",
   "execution_count": 6,
   "metadata": {},
   "outputs": [],
   "source": [
    "# Package Imports\n",
    "import numpy as np\n",
    "import pandas as pd"
   ]
  },
  {
   "attachments": {},
   "cell_type": "markdown",
   "metadata": {},
   "source": [
    "# Problem 1"
   ]
  },
  {
   "attachments": {},
   "cell_type": "markdown",
   "metadata": {},
   "source": [
    "## Part a"
   ]
  },
  {
   "cell_type": "code",
   "execution_count": 20,
   "metadata": {},
   "outputs": [
    {
     "name": "stdout",
     "output_type": "stream",
     "text": [
      "Result: 51.0128\n",
      "Error: -4.760636329592671e-12\n"
     ]
    }
   ],
   "source": [
    "def polynomial_evaluation(a,x):\n",
    "    p = a[-1]*np.ones_like(x)\n",
    "    for j in range(len(a)-2,-1,-1):\n",
    "        p = a[j] + p*x\n",
    "\n",
    "    return p\n",
    "\n",
    "a = np.ones(51)\n",
    "x = np.float64(1.00001)\n",
    "result = polynomial_evaluation(a,x)\n",
    "print(f\"Result: {round(result,4)}\")\n",
    "\n",
    "true_value = (x**51 - 1)/(x-1)\n",
    "print(f\"Error: {true_value - result}\")"
   ]
  },
  {
   "attachments": {},
   "cell_type": "markdown",
   "metadata": {},
   "source": [
    "## Part b"
   ]
  },
  {
   "attachments": {},
   "cell_type": "markdown",
   "metadata": {},
   "source": [
    "# Problem 3"
   ]
  },
  {
   "attachments": {},
   "cell_type": "markdown",
   "metadata": {},
   "source": [
    "## Part a"
   ]
  },
  {
   "attachments": {},
   "cell_type": "markdown",
   "metadata": {},
   "source": [
    "## Part b"
   ]
  },
  {
   "cell_type": "code",
   "execution_count": 31,
   "metadata": {},
   "outputs": [
    {
     "data": {
      "text/html": [
       "<div>\n",
       "<style scoped>\n",
       "    .dataframe tbody tr th:only-of-type {\n",
       "        vertical-align: middle;\n",
       "    }\n",
       "\n",
       "    .dataframe tbody tr th {\n",
       "        vertical-align: top;\n",
       "    }\n",
       "\n",
       "    .dataframe thead th {\n",
       "        text-align: right;\n",
       "    }\n",
       "</style>\n",
       "<table border=\"1\" class=\"dataframe\">\n",
       "  <thead>\n",
       "    <tr style=\"text-align: right;\">\n",
       "      <th></th>\n",
       "      <th>x</th>\n",
       "      <th>Test</th>\n",
       "      <th>Result</th>\n",
       "      <th>Nested Result</th>\n",
       "    </tr>\n",
       "  </thead>\n",
       "  <tbody>\n",
       "    <tr>\n",
       "      <th>0</th>\n",
       "      <td>2^-1</td>\n",
       "      <td>2.057446e-02</td>\n",
       "      <td>2.057447e-02</td>\n",
       "      <td>2.057602e-02</td>\n",
       "    </tr>\n",
       "    <tr>\n",
       "      <th>1</th>\n",
       "      <td>2^-3</td>\n",
       "      <td>3.252666e-04</td>\n",
       "      <td>3.252666e-04</td>\n",
       "      <td>3.252673e-04</td>\n",
       "    </tr>\n",
       "    <tr>\n",
       "      <th>2</th>\n",
       "      <td>2^-5</td>\n",
       "      <td>5.086015e-06</td>\n",
       "      <td>5.086015e-06</td>\n",
       "      <td>5.086015e-06</td>\n",
       "    </tr>\n",
       "    <tr>\n",
       "      <th>3</th>\n",
       "      <td>2^-7</td>\n",
       "      <td>7.947262e-08</td>\n",
       "      <td>7.947262e-08</td>\n",
       "      <td>7.947262e-08</td>\n",
       "    </tr>\n",
       "    <tr>\n",
       "      <th>4</th>\n",
       "      <td>2^-9</td>\n",
       "      <td>1.241763e-09</td>\n",
       "      <td>1.241763e-09</td>\n",
       "      <td>1.241763e-09</td>\n",
       "    </tr>\n",
       "    <tr>\n",
       "      <th>5</th>\n",
       "      <td>2^-11</td>\n",
       "      <td>1.940255e-11</td>\n",
       "      <td>1.940255e-11</td>\n",
       "      <td>1.940255e-11</td>\n",
       "    </tr>\n",
       "    <tr>\n",
       "      <th>6</th>\n",
       "      <td>2^-13</td>\n",
       "      <td>3.031649e-13</td>\n",
       "      <td>3.031649e-13</td>\n",
       "      <td>3.031649e-13</td>\n",
       "    </tr>\n",
       "    <tr>\n",
       "      <th>7</th>\n",
       "      <td>2^-15</td>\n",
       "      <td>4.736950e-15</td>\n",
       "      <td>4.736952e-15</td>\n",
       "      <td>4.736952e-15</td>\n",
       "    </tr>\n",
       "    <tr>\n",
       "      <th>8</th>\n",
       "      <td>2^-17</td>\n",
       "      <td>7.401459e-17</td>\n",
       "      <td>7.401487e-17</td>\n",
       "      <td>7.401487e-17</td>\n",
       "    </tr>\n",
       "    <tr>\n",
       "      <th>9</th>\n",
       "      <td>2^-19</td>\n",
       "      <td>1.156412e-18</td>\n",
       "      <td>1.156482e-18</td>\n",
       "      <td>1.156482e-18</td>\n",
       "    </tr>\n",
       "    <tr>\n",
       "      <th>10</th>\n",
       "      <td>2^-21</td>\n",
       "      <td>1.805239e-20</td>\n",
       "      <td>1.807004e-20</td>\n",
       "      <td>1.807004e-20</td>\n",
       "    </tr>\n",
       "    <tr>\n",
       "      <th>11</th>\n",
       "      <td>2^-23</td>\n",
       "      <td>2.779327e-22</td>\n",
       "      <td>2.823443e-22</td>\n",
       "      <td>2.823443e-22</td>\n",
       "    </tr>\n",
       "    <tr>\n",
       "      <th>12</th>\n",
       "      <td>2^-25</td>\n",
       "      <td>3.308722e-24</td>\n",
       "      <td>4.411630e-24</td>\n",
       "      <td>4.411630e-24</td>\n",
       "    </tr>\n",
       "    <tr>\n",
       "      <th>13</th>\n",
       "      <td>2^-27</td>\n",
       "      <td>0.000000e+00</td>\n",
       "      <td>6.893172e-26</td>\n",
       "      <td>6.893172e-26</td>\n",
       "    </tr>\n",
       "    <tr>\n",
       "      <th>14</th>\n",
       "      <td>2^-29</td>\n",
       "      <td>0.000000e+00</td>\n",
       "      <td>1.077058e-27</td>\n",
       "      <td>1.077058e-27</td>\n",
       "    </tr>\n",
       "    <tr>\n",
       "      <th>15</th>\n",
       "      <td>2^-31</td>\n",
       "      <td>0.000000e+00</td>\n",
       "      <td>1.682903e-29</td>\n",
       "      <td>1.682903e-29</td>\n",
       "    </tr>\n",
       "    <tr>\n",
       "      <th>16</th>\n",
       "      <td>2^-33</td>\n",
       "      <td>0.000000e+00</td>\n",
       "      <td>2.629536e-31</td>\n",
       "      <td>2.629536e-31</td>\n",
       "    </tr>\n",
       "  </tbody>\n",
       "</table>\n",
       "</div>"
      ],
      "text/plain": [
       "        x          Test        Result  Nested Result\n",
       "0    2^-1  2.057446e-02  2.057447e-02   2.057602e-02\n",
       "1    2^-3  3.252666e-04  3.252666e-04   3.252673e-04\n",
       "2    2^-5  5.086015e-06  5.086015e-06   5.086015e-06\n",
       "3    2^-7  7.947262e-08  7.947262e-08   7.947262e-08\n",
       "4    2^-9  1.241763e-09  1.241763e-09   1.241763e-09\n",
       "5   2^-11  1.940255e-11  1.940255e-11   1.940255e-11\n",
       "6   2^-13  3.031649e-13  3.031649e-13   3.031649e-13\n",
       "7   2^-15  4.736950e-15  4.736952e-15   4.736952e-15\n",
       "8   2^-17  7.401459e-17  7.401487e-17   7.401487e-17\n",
       "9   2^-19  1.156412e-18  1.156482e-18   1.156482e-18\n",
       "10  2^-21  1.805239e-20  1.807004e-20   1.807004e-20\n",
       "11  2^-23  2.779327e-22  2.823443e-22   2.823443e-22\n",
       "12  2^-25  3.308722e-24  4.411630e-24   4.411630e-24\n",
       "13  2^-27  0.000000e+00  6.893172e-26   6.893172e-26\n",
       "14  2^-29  0.000000e+00  1.077058e-27   1.077058e-27\n",
       "15  2^-31  0.000000e+00  1.682903e-29   1.682903e-29\n",
       "16  2^-33  0.000000e+00  2.629536e-31   2.629536e-31"
      ]
     },
     "execution_count": 31,
     "metadata": {},
     "output_type": "execute_result"
    }
   ],
   "source": [
    "def loss_of_significance(x):\n",
    "    return x**3/6 - x**5/120 + x**7/5040\n",
    "\n",
    "vals = np.linspace(1,33,17)\n",
    "x = np.float64(2.**-vals)\n",
    "\n",
    "test = x - np.sin(x)\n",
    "result = loss_of_significance(x)\n",
    "\n",
    "# Use Horner's algorithm\n",
    "a = np.array([0,0,0,1/6,0,-1/120,1/5040])\n",
    "result_nested_eval = polynomial_evaluation(a,x)\n",
    "\n",
    "pd.DataFrame({'x': [f'2^-{int(val)}' for val in vals], \n",
    "              'Test': test, 'Result': result, \n",
    "              'Nested Result': result_nested_eval})"
   ]
  },
  {
   "attachments": {},
   "cell_type": "markdown",
   "metadata": {},
   "source": [
    "## Part c"
   ]
  }
 ],
 "metadata": {
  "kernelspec": {
   "display_name": ".venv",
   "language": "python",
   "name": "python3"
  },
  "language_info": {
   "codemirror_mode": {
    "name": "ipython",
    "version": 3
   },
   "file_extension": ".py",
   "mimetype": "text/x-python",
   "name": "python",
   "nbconvert_exporter": "python",
   "pygments_lexer": "ipython3",
   "version": "3.10.2"
  },
  "orig_nbformat": 4,
  "vscode": {
   "interpreter": {
    "hash": "8ee9667ba3bbd897f72f7fed856faa8f88e2b94b92926ffb355411b300d19495"
   }
  }
 },
 "nbformat": 4,
 "nbformat_minor": 2
}
