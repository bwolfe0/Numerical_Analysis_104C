{
 "cells": [
  {
   "attachments": {},
   "cell_type": "markdown",
   "metadata": {},
   "source": [
    "# Problem 3"
   ]
  },
  {
   "attachments": {},
   "cell_type": "markdown",
   "metadata": {},
   "source": [
    "### Gauss-Newton"
   ]
  },
  {
   "cell_type": "code",
   "execution_count": 74,
   "metadata": {},
   "outputs": [],
   "source": [
    "import numpy as np\n",
    "import matplotlib.pyplot as plt\n",
    "from numpy import log, exp\n",
    "\n",
    "def gauss_newton(t, y, Dr, y_pred_fxn, c0, tol=1e-6, max_iter=100000):\n",
    "    c = c0.copy()\n",
    "\n",
    "    for j in range(max_iter):\n",
    "        r = y_pred_fxn(t,c) - y\n",
    "\n",
    "        if np.linalg.norm(r) < tol:\n",
    "            break\n",
    "        \n",
    "        A = Dr(t,c)\n",
    "\n",
    "        v = np.linalg.solve(A.T @ A, -A.T @ r)\n",
    "\n",
    "        c += v\n",
    "\n",
    "    return c, j"
   ]
  },
  {
   "cell_type": "code",
   "execution_count": 75,
   "metadata": {},
   "outputs": [
    {
     "name": "stdout",
     "output_type": "stream",
     "text": [
      "c0: 7.054228542648305, c1: -0.18289874347158333\n",
      "Iterations: 99999\n"
     ]
    }
   ],
   "source": [
    "# Estabish data vectors\n",
    "t = np.arange(1,11, dtype=np.float64).T\n",
    "y = np.array([6.2, 9.5, 12.3, 13.9, 14.6, 13.5, 13.3, 12.7, 12.4, 11.9]).T\n",
    "\n",
    "Dr = lambda t, c: np.column_stack((t*exp(t*c[1]) , t*t*c[0]*exp(t*c[1])))\n",
    "y_pred_fxn = lambda t, c: c[0] * t * exp(c[1]*t)\n",
    "\n",
    "c_gn, iter_gn = gauss_newton(t,y,Dr,y_pred_fxn, np.array([6.,.1]))\n",
    "\n",
    "y_pred_gn = c_gn[0] * t * exp(c_gn[1] * t)\n",
    "\n",
    "print(f\"c0: {c_gn[0]}, c1: {c_gn[1]}\")\n",
    "print(f\"Iterations: {iter_gn}\")"
   ]
  },
  {
   "attachments": {},
   "cell_type": "markdown",
   "metadata": {},
   "source": [
    "### Levenberg-Marquardt"
   ]
  },
  {
   "cell_type": "code",
   "execution_count": 76,
   "metadata": {},
   "outputs": [],
   "source": [
    "import numpy as np\n",
    "import matplotlib.pyplot as plt\n",
    "from numpy import log, exp\n",
    "\n",
    "def lev_mar(t, y, Dr, y_pred_fxn, c0, lmbd, tol=1e-6, max_iter=100000):\n",
    "    c = c0.copy()\n",
    "\n",
    "    for j in range(max_iter):\n",
    "        r = y_pred_fxn(t,c) - y\n",
    "\n",
    "        if np.linalg.norm(r) < tol:\n",
    "            break\n",
    "        \n",
    "        A = Dr(t,c)\n",
    "\n",
    "        D = np.diag(np.diag(A.T @ A))\n",
    "        v = np.linalg.solve(A.T @ A + lmbd * D, -A.T @ r)\n",
    "\n",
    "        c += v\n",
    "\n",
    "    return c, j"
   ]
  },
  {
   "cell_type": "code",
   "execution_count": 77,
   "metadata": {},
   "outputs": [
    {
     "name": "stdout",
     "output_type": "stream",
     "text": [
      "c0: 7.054228542648297, c1: -0.18289874347158316\n",
      "Iterations: 99999\n"
     ]
    }
   ],
   "source": [
    "# Estabish data vectors\n",
    "t = np.arange(1,11, dtype=np.float64).T\n",
    "y = np.array([6.2, 9.5, 12.3, 13.9, 14.6, 13.5, 13.3, 12.7, 12.4, 11.9]).T\n",
    "\n",
    "Dr = lambda t, c: np.column_stack((t*exp(t*c[1]) , t*t*c[0]*exp(t*c[1])))\n",
    "y_pred_fxn = lambda t, c: c[0] * t * exp(c[1]*t)\n",
    "\n",
    "c_lm, iter_lm = lev_mar(t,y,Dr,y_pred_fxn, np.array([6.,.1]), 1)\n",
    "\n",
    "y_pred_lm = c_lm[0] * t * exp(c_lm[1] * t)\n",
    "\n",
    "print(f\"c0: {c_lm[0]}, c1: {c_lm[1]}\")\n",
    "print(f\"Iterations: {iter_lm}\")"
   ]
  },
  {
   "attachments": {},
   "cell_type": "markdown",
   "metadata": {},
   "source": [
    "### Data Linearization"
   ]
  },
  {
   "cell_type": "code",
   "execution_count": 78,
   "metadata": {},
   "outputs": [
    {
     "name": "stdout",
     "output_type": "stream",
     "text": [
      "c1: 7.122, c2: -0.184\n"
     ]
    }
   ],
   "source": [
    "import numpy as np\n",
    "import matplotlib.pyplot as plt\n",
    "from numpy import log, exp\n",
    "\n",
    "# Estabish data vectors\n",
    "t = np.arange(1,11, dtype=np.float64).T\n",
    "y = np.array([6.2, 9.5, 12.3, 13.9, 14.6, 13.5, 13.3, 12.7, 12.4, 11.9]).T\n",
    "\n",
    "# Define (linearized) least squares vectors\n",
    "A = np.column_stack((np.ones(10, dtype=np.float64), t))\n",
    "b_ = log(y) - log(t)\n",
    "\n",
    "# Solve linearized least squares\n",
    "c_ = np.linalg.solve(A.T @ A, A.T @ b_.T)\n",
    "c = c_.copy()\n",
    "c[0] = exp(c[0]) # Convert linearized solution to orginal form\n",
    "\n",
    "print(f\"c1: {round(c[0],3)}, c2: {round(c[1],3)}\")\n",
    "\n",
    "# Use fitted model to obtain predictions\n",
    "y_pred = c[0]*t*exp(c[1]*t)"
   ]
  },
  {
   "attachments": {},
   "cell_type": "markdown",
   "metadata": {},
   "source": [
    "### Results and Discussion"
   ]
  },
  {
   "cell_type": "code",
   "execution_count": 84,
   "metadata": {},
   "outputs": [
    {
     "name": "stdout",
     "output_type": "stream",
     "text": [
      "Sum of Residuals (Gauss Newton): 1.2543574926529986\n",
      "Sum of Residuals (Levenberg-Marquardt): 1.254357492653\n",
      "Sum of Residuals (Linearized): 1.2667076986711072\n"
     ]
    }
   ],
   "source": [
    "with np.printoptions(precision=5, suppress=True):\n",
    "    print(f\"Sum of Residuals (Gauss Newton): {np.linalg.norm(y-y_pred_gn)}\")\n",
    "    print(f\"Sum of Residuals (Levenberg-Marquardt): {np.linalg.norm(y-y_pred_lm)}\")\n",
    "    print(f\"Sum of Residuals (Linearized): {np.linalg.norm(y-y_pred)}\")"
   ]
  },
  {
   "cell_type": "code",
   "execution_count": 85,
   "metadata": {},
   "outputs": [
    {
     "data": {
      "image/png": "[encoded data removed]",
      "text/plain": [
       "<Figure size 640x480 with 1 Axes>"
      ]
     },
     "metadata": {},
     "output_type": "display_data"
    }
   ],
   "source": [
    "plt.scatter(t,y, label='Data')\n",
    "plt.plot(t,y_pred, label='Linearized Model Fit')\n",
    "plt.plot(t,y_pred_gn, label='Linearized Model Fit')\n",
    "plt.plot(t,y_pred_lm, label='Linearized Model Fit')\n",
    "plt.legend()\n",
    "plt.title('Linearized Least Squares Solution')\n",
    "plt.show()"
   ]
  },
  {
   "attachments": {},
   "cell_type": "markdown",
   "metadata": {},
   "source": [
    "There is minor improvement from Gauss-Newton vs the original data linearization method, but going from Gauss-Newton to Levenberg-Marquardt there is almost no change. This indicates that the problem is well conditioned and the additional robustness provided by Levenberg-Marquardt is no needed here."
   ]
  }
 ],
 "metadata": {
  "kernelspec": {
   "display_name": ".venv",
   "language": "python",
   "name": "python3"
  },
  "language_info": {
   "codemirror_mode": {
    "name": "ipython",
    "version": 3
   },
   "file_extension": ".py",
   "mimetype": "text/x-python",
   "name": "python",
   "nbconvert_exporter": "python",
   "pygments_lexer": "ipython3",
   "version": "3.10.2 (v3.10.2:a58ebcc701, Jan 13 2022, 14:50:16) [Clang 13.0.0 (clang-1300.0.29.30)]"
  },
  "orig_nbformat": 4,
  "vscode": {
   "interpreter": {
    "hash": "8ee9667ba3bbd897f72f7fed856faa8f88e2b94b92926ffb355411b300d19495"
   }
  }
 },
 "nbformat": 4,
 "nbformat_minor": 2
}
