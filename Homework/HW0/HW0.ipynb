{
 "cells": [
  {
   "cell_type": "code",
   "execution_count": 6,
   "metadata": {},
   "outputs": [],
   "source": [
    "import numpy as np\n",
    "\n",
    "def polynomial_evaluation(a,x):\n",
    "    \"\"\"\n",
    "    Evaluates a polynomial with at point x.\n",
    "\n",
    "    Inputs:\n",
    "        a: 1D array of polynomial coefficients, in order of increasing degree.\n",
    "        x: 1D array of points to evaluate the polynomial.\n",
    "\n",
    "    Output:\n",
    "        p: 1D array of the results for each point x.\n",
    "    \"\"\"\n",
    "    p = a[-1]*np.ones_like(x)\n",
    "    for j in range(len(a)-2,-1,-1):\n",
    "        p = a[j] + p*x\n",
    "\n",
    "    return p"
   ]
  },
  {
   "cell_type": "code",
   "execution_count": 7,
   "metadata": {},
   "outputs": [
    {
     "name": "stdout",
     "output_type": "stream",
     "text": [
      "1.25\n",
      "Result agrees with manual computation: True\n"
     ]
    }
   ],
   "source": [
    "a = np.array([-1, 5, -3, 3, 2])\n",
    "x = .5\n",
    "result = polynomial_evaluation(a,x)\n",
    "manual_comp = 2*x**4 + 3*x**3 - 3*x**2 + 5*x -  1\n",
    "print(result)\n",
    "print(f\"Result agrees with manual computation: {result == manual_comp}\")"
   ]
  },
  {
   "cell_type": "code",
   "execution_count": null,
   "metadata": {},
   "outputs": [],
   "source": []
  }
 ],
 "metadata": {
  "kernelspec": {
   "display_name": ".venv",
   "language": "python",
   "name": "python3"
  },
  "language_info": {
   "codemirror_mode": {
    "name": "ipython",
    "version": 3
   },
   "file_extension": ".py",
   "mimetype": "text/x-python",
   "name": "python",
   "nbconvert_exporter": "python",
   "pygments_lexer": "ipython3",
   "version": "3.10.2"
  },
  "orig_nbformat": 4,
  "vscode": {
   "interpreter": {
    "hash": "8ee9667ba3bbd897f72f7fed856faa8f88e2b94b92926ffb355411b300d19495"
   }
  }
 },
 "nbformat": 4,
 "nbformat_minor": 2
}
