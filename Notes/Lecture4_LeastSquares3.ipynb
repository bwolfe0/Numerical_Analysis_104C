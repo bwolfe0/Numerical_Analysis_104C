{
 "cells": [
  {
   "cell_type": "markdown",
   "metadata": {},
   "source": [
    "### GMRES"
   ]
  },
  {
   "cell_type": "markdown",
   "metadata": {},
   "source": [
    "#### Overview"
   ]
  },
  {
   "cell_type": "markdown",
   "metadata": {},
   "source": [
    "##### What is GMRES?"
   ]
  },
  {
   "cell_type": "markdown",
   "metadata": {},
   "source": [
    "- GMRES is an iterative solver for a system of linear equations: $Ax=b$ \n",
    "  - $A$ is square, invertible.\n",
    "- GMRES generalizes the Conjugate Gradient method to *asymmetric* matrix $A$.\n",
    "  - In Conjugate Gradient, $A$ must be symmetric positive definite.\n",
    "- The name is short for *generalized minimum residual* method.\n",
    "- Why do we discuss that in a chapter of least square?\n",
    "  - Part of its algorithm involves solving least square problem."
   ]
  },
  {
   "cell_type": "markdown",
   "metadata": {},
   "source": [
    "##### Why do we care?"
   ]
  },
  {
   "cell_type": "markdown",
   "metadata": {},
   "source": [
    "- GMRES can deal with asymmetric matrix, which the conjugate gradient method fails with.\n",
    "- GMRES is a good choice for the solution of large, sparse, asymmetric (square) linear system $Ax=b$. [Sauer (2017) p. 235]\n",
    "- GMRES deals with ill-conditioning using orthogonality. [Sauer (2017) p. 235]"
   ]
  },
  {
   "cell_type": "markdown",
   "metadata": {},
   "source": [
    "### Problem of interest"
   ]
  },
  {
   "cell_type": "markdown",
   "metadata": {},
   "source": [
    "**Settings**\n",
    "\n",
    "| symbol | setting |\n",
    "|---|---|\n",
    "| $n$ | a positive integer |\n",
    "| $A$ | nonsingular $n$-by-$n$ matrix |\n",
    "| $b$ | (column) vector of length $n$ |\n",
    "| $x$ | (column) vector of length $n$ |\n"
   ]
  },
  {
   "cell_type": "markdown",
   "metadata": {},
   "source": [
    "**Problem of interest**\n",
    "\n",
    "\n",
    "Find $x$ that satisfies $Ax = b$.\n"
   ]
  },
  {
   "cell_type": "markdown",
   "metadata": {},
   "source": [
    "#### The method"
   ]
  },
  {
   "cell_type": "markdown",
   "metadata": {},
   "source": [
    "##### Idea"
   ]
  },
  {
   "cell_type": "markdown",
   "metadata": {},
   "source": [
    "- $K_j:=\\mathrm{span} \\{r, Ar, A^2 r, \\cdots, A^j r\\}$ is called *Krylov* space. ($r=b-Ax_0$) \n",
    "- The approximate solution $x_k$ at $k$-th iteration is the best approximation of the true solution $x$ in a translation of Krylov space $x_0+K_{k-1}$. \n",
    "  - Conjugate gradient method uses the similar idea. And they both belong to *Krylov methods*.\n",
    "- As $k$ increases, $K_{k-1}$ expands and the approximation gets better and better.\n",
    "  - In theory, GMRES is a direct method: It terminates at $n$-th iteration with the exact solution if $A$ is nonsingular. [Sauer (2017) p. 237]"
   ]
  },
  {
   "cell_type": "markdown",
   "metadata": {},
   "source": [
    "##### Algorithm"
   ]
  },
  {
   "cell_type": "markdown",
   "metadata": {},
   "source": [
    "**Algorithm** (GMRES; Sauer (2017) p. 235)\n",
    "\n",
    "- Given\n",
    "  - $A$: $n$-by-$n$ matrix\n",
    "  - $b$: vector of length $n$\n",
    "- Initialize\n",
    "  - $x_0$: initial guess\n",
    "  - $r=b-A x_0$: initial residual \n",
    "  - $q_1=r /\\|r\\|_2$\n",
    "- Compute\n",
    "  - **for** $k=1,2, \\ldots, m$\n",
    "    - $y=A q_k$\n",
    "    - **for** $j=1,2, \\ldots, k$\n",
    "      - $h_{j k}=q_j^T y $\n",
    "      - $y=y-h_{j k} q_j$\n",
    "    - $h_{k+1, k}=\\|y\\|_2$ (If $h_{k+1, k}=0$, skip next line and terminate at bottom.)\n",
    "    - $q_{k+1}=y / h_{k+1, k}$\n",
    "    - Minimize $\\left\\|H_k c_k- [\\|r\\|_2, 0, 0, \\ldots, 0]^T \\right\\|_2$ for $c_k$\n",
    "    - $x_k=Q_k c_k+x_0$\n",
    "\n",
    "At $k$-th step, \n",
    "- $[\\|r\\|_2, 0, 0, \\ldots, 0]$ is length $k+1$.\n",
    "- $c_k$ is of length $k$.\n",
    "- $H_k$ is of size $(k+1)\\times k$ and given by \n",
    " \n",
    "$$\n",
    "H = \\left[\\begin{array}{cccc}\n",
    "h_{11} & h_{12} & \\cdots & h_{1 k} \\\\\n",
    "h_{21} & h_{22} & \\cdots & h_{2 k} \\\\\n",
    "& h_{32} & \\cdots & h_{3 k} \\\\\n",
    "& \\ddots & \\vdots \\\\\n",
    "& & & h_{k+1, k}\n",
    "\\end{array}\\right]\n",
    "$$\n",
    "\n",
    "  - $Q_k$ is of size $n\\times k$ and given by\n",
    "\n",
    "$$\n",
    "\\left[\\begin{array}{c:c:c} \n",
    "& & \\\\\n",
    "& & \\\\\n",
    "q_1 & \\cdots & q_k \\\\\n",
    "& & \\\\\n",
    "& &\n",
    "\\end{array}\\right]\n",
    "$$\n"
   ]
  },
  {
   "cell_type": "markdown",
   "metadata": {},
   "source": [
    "##### Details of method"
   ]
  },
  {
   "cell_type": "markdown",
   "metadata": {},
   "source": [
    "**Outline**\n",
    "\n",
    "- At step $k$ of the method, we enlarge the Krylov space by adding $A^k r$ to the basis, \n",
    "- reorthogonalize the basis (i.e., inner loop for modified Gram-Schimidt), \n",
    "- and then solve a least square problem to find the best approximation in $x_0+K_{k-1}$.\n",
    "  - This is done by finding $x_{add}$ ($Q_k c_k$ in the algorithm) and add it to $x_0$.\n",
    "  - This step involves its own details."
   ]
  },
  {
   "cell_type": "markdown",
   "metadata": {},
   "source": [
    "Clicker Question"
   ]
  },
  {
   "cell_type": "markdown",
   "metadata": {},
   "source": [
    "**Details 1**\n"
   ]
  },
  {
   "cell_type": "markdown",
   "metadata": {},
   "source": [
    "- It holds that $AQ_k = Q_{k+1} H_k$ for each $k$\n",
    "  - This is a consequence of Gram-Schmidt (inner loop): with $y=A q_j$, we have orthogonal decomposition $y = \\underbrace{(q_1^T y)}_{h_{1,j}} q_1 + \\underbrace{(q_2^T y)}_{h_{2,j}} q_2 + \\cdots + \\underbrace{(q_{j+1}^T y)}_{h_{j+1,j}}q_{j+1}$ for $j=1,2,\\cdots,k$.\n",
    "    - This can be seen from the construction $q_{j+1}=\\left(y - \\underbrace{(q_1^T y)}_{h_{1,j}} q_1 - \\underbrace{(q_2^T y)}_{h_{2,j}} q_2 - \\cdots - \\underbrace{(q_{j}^T y)}_{h_{j,j}}q_{j}\\right)/h_{j+1,j}$ and taking dot-product with $q_{j+1}$ and using orthonomality of $q$'s.\n",
    "    - This decomposition is used in the third equality below.\n",
    "    - As a result, $q_{j+1} \\in \\mathrm{span} \\{q_i\\}_{i=1}^{j} \\cup \\{Aq_j\\}$\n",
    "    - We are assuming that there is no technical difficulty such as $y=A q_{j+1}\\in\\mathrm{span}\\{q_i\\}_{i=1}^{j}$.\n",
    "\n",
    "$$\n",
    "\\begin{split}\n",
    "AQ_k &= A\\left[\\begin{array}{c:c:c} \n",
    "  & & \\\\\n",
    "  & & \\\\\n",
    "  q_1 & \\cdots & q_k \\\\\n",
    "  & & \\\\\n",
    "  & &\n",
    "  \\end{array}\\right] \\\\\n",
    "&=\\left[\\begin{array}{c:c:c} \n",
    "  & & \\\\\n",
    "  & & \\\\\n",
    "  Aq_1 & \\cdots & Aq_k \\\\\n",
    "  & & \\\\\n",
    "  & &\n",
    "  \\end{array}\\right]\n",
    "\\\\\n",
    "&=\n",
    "\\left[\n",
    "\t\\begin{array}{c:c:c:c}\n",
    "\t\tQ_{k+1} \n",
    "\t\t\\begin{pmatrix}\n",
    "  \t\t\th_{11}\\\\\n",
    "  \t\t\th_{21}\\\\\n",
    "  \t\t\t\\\\\n",
    "  \t\t\t\\\\\n",
    "  \t\t\\end{pmatrix} \n",
    "  \t\t&\n",
    "  \t\tQ_{k+1} \n",
    "\t\t\\begin{pmatrix}\n",
    "  \t\t\th_{12}\\\\\n",
    "  \t\t\th_{22}\\\\\n",
    "  \t\t\th_{32}\\\\\n",
    "  \t\t\t\\\\\n",
    "  \t\t\\end{pmatrix}\n",
    "\t  \t&\n",
    " \t\t\\cdots \n",
    "\t\t&\n",
    "  \t\tQ_{k+1} \n",
    "\t\t\\begin{pmatrix}\n",
    "  \t\t\th_{12}\\\\\n",
    "  \t\t\th_{22}\\\\\n",
    "  \t\t\th_{32}\\\\\n",
    "  \t\t\t\\vdots \\\\\n",
    "  \t\t\th_{j+1, j}\n",
    "  \t\t\\end{pmatrix}\n",
    "\t\\end{array}\n",
    "  \\right]\n",
    "\\\\\n",
    "& = Q_{k+1}\n",
    "\\left[\\begin{array}{c:c:c:c}\n",
    "h_{11} & h_{12} & \\cdots & h_{1 k} \\\\\n",
    "h_{21} & h_{22} & \\cdots & h_{2 k} \\\\\n",
    "& h_{32} & \\cdots & h_{3 k} \\\\\n",
    "& \\ddots & \\vdots \\\\\n",
    "& & & h_{k+1, k}\n",
    "\\end{array}\\right]\n",
    "\\\\\n",
    "&= Q_{k+1}H_k\n",
    "% \\left[\\begin{array}{l:l:l:l} \n",
    "% & & & \\\\\n",
    "% q_1 & \\cdots & q_k & q_{k+1} \\\\\n",
    "% & & & \\\\\n",
    "% & & &\n",
    "% \\end{array}\\right]\\left[\\begin{array}{cccc}\n",
    "% h_{11} & h_{12} & \\cdots & h_{1 k} \\\\\n",
    "% h_{21} & h_{22} & \\cdots & h_{2 k} \\\\\n",
    "% & h_{32} & \\cdots & h_{3 k} \\\\\n",
    "% & \\ddots & \\vdots \\\\\n",
    "% & & & h_{k+1, k}\n",
    "% \\end{array}\\right]\n",
    "\\end{split}\n",
    "$$\n"
   ]
  },
  {
   "cell_type": "markdown",
   "metadata": {},
   "source": [
    "___"
   ]
  },
  {
   "cell_type": "markdown",
   "metadata": {},
   "source": [
    "**Details 2**"
   ]
  },
  {
   "cell_type": "markdown",
   "metadata": {},
   "source": [
    "- Notation: $\\mathrm{span} Q_k:=\\mathrm{span}\\{q_i\\}_{i=1}^{j}$ span of columns of $Q_k$.\n",
    "- $\\mathrm{span} Q_k = K_{k-1}$ \n",
    "  - We are assuming no technical issue such as $y=A q_{j+1}\\in\\mathrm{span}\\{q_i\\}_{i=1}^{j}$.\n",
    "  <!-- - We use an induction.\n",
    "    1. $\\mathrm{span}\\{q_1\\}=\\mathrm{span}\\{r\\}$ is trivial.\n",
    "    2. Assume $\\mathrm{span} Q_k = K_{k-1}$ for $k\\ge 1$.\n",
    "    3. Now, for the case $k+1$, \n",
    "       - $\\mathrm{span}\\ Q_{k+1}=\\mathrm{span}\\{q_1, q_2, \\cdots, q_k \\} \\cup \\{Aq_k\\}=\\mathrm{span}\\ Q_{k} + \\mathrm{span}\\{Aq_k\\}$,\n",
    "         - where used $q_{j+1}=\\left(Aq_k - \\underbrace{(q_1^T y)}_{h_{1,j}} q_1 - \\underbrace{(q_2^T y)}_{h_{2,j}} q_2 - \\cdots - \\underbrace{(q_{j}^T y)}_{h_{j,j}}q_{j}\\right)/h_{j+1,j}$ in the first equality and the following lemma in the second equality.\n",
    "           - (Lemma) Let $V_1,V_2\\subset V$ is subspaces of a vector sapce $V$ and $B_1$ and $B_2$ are bases for $V_1$ and $V_2$ respectively. Then, we have $\\mathrm{span} B_1 \\cup B_2 = V_1 + V_2$. (HW problem)\n",
    "       - We also have $\\mathrm{span}\\{Aq_k\\} \\subset K_k$ because $q_k\\in \\mathrm{span}\\{q_1, q_2, \\cdots, q_k \\}=K_{k-1}=\\mathrm{span}\\{r, Ar, \\cdots, A^{k-1}r\\}$, where we used induction hypothesis, hence $Aq_k=A\\sum_{i=1}^{k}a_i A^{i-1}r =\\sum_{i=1}^{k}a_i A^{i}r \\in \\mathrm{span}\\{Ar, A^2r, \\cdots, A^{k}r\\} \\subset K_{k}$.\n",
    "          -->\n",
    "  - E.g., in the iteration for $q_{3}$, we have \n",
    "    - $\\mathrm{span}\\{q_1\\}=\\mathrm{span}\\{r\\}$, and\n",
    "    - $\\mathrm{span}\\{q_1, q_2\\}=\\mathrm{span}\\{q_1,  Aq_1\\}=\\mathrm{span}\\{r,  Aq_1\\}=\\mathrm{span}\\{r,  Ar\\}$, \n",
    "      - where the first equality holds since $q_{j+1} \\in \\mathrm{span} \\{q_i\\}_{i=1}^{j} \\cup \\{Aq_j\\}$ ($j=1$), and the second and third $q_1\\in \\mathrm{span} \\{r\\}$.\n",
    "    - $\\mathrm{span}\\{q_1, q_2, q_3\\}=\\mathrm{span}\\{q_1, q_2, Aq_2\\}=\\mathrm{span}\\{r, Ar, A^2r\\}$.\n",
    "      - where the first equality holds since $q_{j+1} \\in \\mathrm{span} \\{q_i\\}_{i=1}^{j} \\cup \\{Aq_j\\}$ ($j=2$), and the second equality is true because $q_1\\in \\mathrm{span} \\{r\\}$ and $q_2\\in \\mathrm{span}\\{r,  Ar\\}$. To be more precise, these help show $\\mathrm{span}\\{q_1, q_2, q_3\\}\\subset\\mathrm{span}\\{r, Ar, A^2r\\}$.\n",
    "      - $\\mathrm{span}\\{r, Ar, A^2r\\}\\subset\\mathrm{span}\\{q_1, q_2, q_3\\}$ can be shown since, thanks to orthogonality of $q_j$'s, $\\mathrm{dim}(\\mathrm{span}\\{q_1, q_2, q_3\\})$ is a 3-dim subspace of $\\mathrm{span}\\{r, Ar, A^2r\\}$, which is at most of 3-dim. \n"
   ]
  },
  {
   "cell_type": "markdown",
   "metadata": {},
   "source": [
    "**Details 3**\n",
    "\n",
    "For an iteration $k$, the iterate $x_k$ minimize residual over $x_0 + K_{k-1}$, \n"
   ]
  },
  {
   "cell_type": "markdown",
   "metadata": {},
   "source": [
    "\n",
    "- Observation 1: decompose $x_k = x_0 + x_{\\text {add }}$ so that $x_{\\text {add }}\\in K_{k-1}$, \n",
    "  - then the residual can be written $r_k = b-Ax_k = b-Ax_0 -Ax_{\\text {add }} = r - Ax_{\\text {add }}$ (recall the notation $r= b-Ax_0$)\n",
    "  - The best approximation of $x$, in the sense of minimizing residual, among $x_k \\in x_0 + K_{k-1}$, equivalently among $x_{\\text {add }}\\in K_{k-1}$, is obtained by a least square problem.\n",
    "  - $x_{\\text {add }} = Q_k c$ for some $c\\in R^k$ (since $x_{\\text {add }}\\in K_{k-1} = \\mathrm{span}Q_k$)\n"
   ]
  },
  {
   "cell_type": "markdown",
   "metadata": {},
   "source": [
    "- Observation 2: $\\| r_k \\|_2 =\\| Q_{k+1}^T r- H_k c \\|_2 $\n",
    "  -  $\\| r_k \\|_2 = \\| b - Ax_k \\|_2 = \\| b - Ax_0 - A x_{\\text {add }} \\|_2 = \\| r - A x_{\\text {add }} \\|_2 = \\| r- AQ_k c \\|_2 = \\| r- Q_{k+1}H_k c \\|_2 = \\| Q_{k+1}^T r - H_k c \\|_2 $, \n",
    "  - where we used $AQ_k = Q_{k+1}H_k$ in the 3rd equality, and \n",
    "  - in the last equality, we used $r- Q_{k+1}H_k c \\in\\mathrm{span} Q_{k+1}$: $r\\in K_0\\subset K_{k}=\\mathrm{span} Q_{k+1}$ and $Q_{k+1}(H_k c) \\in \\mathrm{span} Q_{k+1}$ (as a linear combination columns of $Q_{k+1}$) and a \n",
    "  - lemma $\\| v \\|_2 = \\| Q^T v \\|_2$ if columns of $Q$ are mutually orthonormal and $v\\in\\mathrm{span} Q$ (HW problem)\n"
   ]
  },
  {
   "cell_type": "markdown",
   "metadata": {},
   "source": [
    "- Observation 3: $Q_{k+1}^T r=\\left[\\begin{array}{llll}\\|r\\|_2 & 0 & 0 & \\ldots 0\\end{array}\\right]^T$ (length $k+1$)\n",
    "  - $q_1^T r = \\| r \\|_2$ since $q_1=r /\\|r\\|_2$ and \n",
    "  - $q_j^T r = q_j^T (\\|r\\|_2 q_1) = 0$ for $2\\le j \\le k+1$: all but the first column of $Q_{k+1}$ is orthogonal to $q_1 \\parallel r$.\n",
    "- Combine Observation 2 and Observation 3, then\n",
    "  - $x_{\\text {add }}$ minimizes $\\| \\left[\\begin{array}{llll}\\|r\\|_2 & 0 & 0 & \\ldots 0\\end{array}\\right]^T - H_k c \\|_2$, in other words,\n",
    "  - $x_{\\text {add }}$ is the least square solution of $\\tilde A \\tilde x = \\tilde b$, where\n",
    "    - $\\tilde A = H_k$\n",
    "    - $\\tilde b = \\left[\\begin{array}{llll}\\|r\\|_2 & 0 & 0 & \\ldots 0\\end{array}\\right]^T$ (length $k+1$).\n",
    "    - $\\left[\\begin{array}{cccc}h_{11} & h_{12} & \\cdots & h_{1 k} \\\\ h_{21} & h_{22} & \\cdots & h_{2 k} \\\\ & h_{32} & \\cdots & h_{3 k} \\\\ & & \\ddots & \\vdots \\\\ & & & h_{k+1, k}\\end{array}\\right]\\left[\\begin{array}{c}c_1 \\\\ c_2 \\\\ \\\\ \\vdots \\\\ c_k\\end{array}\\right]=\\left[\\begin{array}{c}\\|r\\|_2 \\\\ 0 \\\\ \\\\ \\vdots \\\\ 0\\end{array}\\right]$"
   ]
  },
  {
   "cell_type": "markdown",
   "metadata": {},
   "source": [
    "##### Some remarks"
   ]
  },
  {
   "cell_type": "markdown",
   "metadata": {},
   "source": [
    "**Remark** (Sauer (2017) p. 237)\n",
    "\n",
    "- (Lest square subproblem) \n",
    "  - The least square subproblem is the most computationally expensive part of the algorithm.\n",
    "    - $k$ will be small compared to the total problem size n in most applications. \n",
    "    - The least squares step should be carried out only when an approximate solution $x_k$ is needed.\n",
    "      - It is independent of other part of the algorithm, and the algorithm can proceed without computing $x_{\\text{add}}=Q_k c_k$.\n",
    "      - Therefore it may be done only intermittently, or at the extreme, only at the end.\n",
    "- (Gram-Schmidt subroutine)\n",
    "  - The Gram–Schmidt orthogonalization step carried out in the inner loop can be substituted with Householder orthogonalization at slightly increased computational complexity, if conditioning is a significant issue.\n",
    "- (Exact solution)\n",
    "  - In the special case $h_{k+1,k} = 0$, the least squares problem becomes square, and the approximate solution $x_k$ is exact.\n",
    "  - This is called *lucky break down*. [Salgado and Wise (2023) p. 188] (See Appendix for optional details)\n"
   ]
  },
  {
   "cell_type": "markdown",
   "metadata": {},
   "source": [
    "**Remark** (Sauer (2017) p. 237)\n",
    "\n",
    "- (Residual descent) Backward error $\\|b − Ax_k \\|_2$ decreases monotonically with $k$. \n",
    "  - $\\|b − Ax_k \\|_2 = \\| r − A x_{\\text{add}}\\|_2$ minimized over bigger and bigger $k$-dimensional Krylov space.\n",
    "- (Restart) $Q_k$ is $n \\times k$ and not guaranteed to be sparse. Thus memory considerations may also limit the number $k$ of GMRES steps.\n",
    "  - In practice, one discards $Q_k$ and restarts GMRES from the beginning, using the current best guess $x_k$ as the new $x_0$.\n",
    "  - Restarting also helps in terms of orthogonality: $A^k r$ points to similar directions as $k$ increases.\n",
    "    - Orthogonalization part of the algorithm is crucial for this reason.\n",
    "- (Main application) The typical use of GMRES is for a large and sparse $n \\times n$ matrix A.\n",
    "  - In theory, the algorithm terminates after $n$ steps at the correct solution RxR as long as A is nonsingular. \n",
    "  - In most cases, however, the goal is to run the method for $k$ steps, where $k$ is much smaller than n."
   ]
  },
  {
   "cell_type": "markdown",
   "metadata": {},
   "source": [
    "#### Computation"
   ]
  },
  {
   "cell_type": "markdown",
   "metadata": {},
   "source": [
    "Computation of GMRES is a topic of computational project."
   ]
  },
  {
   "cell_type": "markdown",
   "metadata": {},
   "source": [
    "### Nonlinear least square"
   ]
  },
  {
   "cell_type": "markdown",
   "metadata": {},
   "source": [
    "#### Preliminary"
   ]
  },
  {
   "cell_type": "markdown",
   "metadata": {},
   "source": [
    "**Notation** \n",
    "\n",
    "- In the textbook, the following notations are adopted. \n",
    "- Vectors are column vectors by default.\n",
    "- The gradient of a scalar function is viewed a row vector.\n",
    "  If $x\\in R^n$, and $f:R^n \\to R$, $\\nabla f(x) = [\\partial f/\\partial x_i]_{i=1}^n$.\n",
    "- $D$ is a Jacobian operator.\n",
    "  - If $x\\in R^n$, and $v:R^n \\to R^n$, $D v(x)$ is a matrix whose $(i,j)$-component is given by $\\partial v_i/\\partial x_j$.\n",
    "  - Or equivalently, $D v(x)$ is a horizontal stack of gradients of each component: $\\left[\\begin{array}{c}\\nabla v_1 \\\\ \\vdots \\\\ \\nabla v_n\\end{array}\\right]$"
   ]
  },
  {
   "cell_type": "markdown",
   "metadata": {},
   "source": [
    "**Theorem** (multidimensional product rule)\n",
    "\n",
    "Let $u\\left(x_1, \\ldots, x_n\\right)$ and $v\\left(x_1, \\ldots, x_n\\right)$ be $\\mathbb{R}^n$-vector-valued functions, and let $A\\left(x_1, \\ldots, x_n\\right)$ be an $n \\times n$ matrix function. The dot product $u^T v$ is a scalar function. Then, we have,\n",
    "\n",
    "\n",
    "$$\n",
    "\\nabla\\left(u^T v\\right)=v^T D u+u^T D v, \\quad \\text{(dot product rule)}\n",
    "$$\n",
    "\n",
    "and\n",
    "\n",
    "$$\n",
    "D(A v)=A \\cdot D v+\\sum_{i=1}^n v_i D a_i,  \\quad \\text{(matrix-vector product rule)}\n",
    "$$\n",
    "\n",
    "where $a_i$ denotes the $i$ th column of $A$. "
   ]
  },
  {
   "cell_type": "markdown",
   "metadata": {},
   "source": [
    "Proof: HW problem"
   ]
  },
  {
   "cell_type": "markdown",
   "metadata": {},
   "source": [
    "#### Gauss-Newton method"
   ]
  },
  {
   "cell_type": "markdown",
   "metadata": {},
   "source": [
    "##### Motivating Example\n"
   ]
  },
  {
   "cell_type": "markdown",
   "metadata": {},
   "source": [
    "\n",
    "**Example** (Sauer (2017) p. 212)\n",
    "\n",
    "Write the nonlinear problem that minimizes the residual of the exponential model $y = x_1 e^{x_2 t}$ fitting the\n",
    "following world automobile supply data:\n",
    "\n",
    "| year | $t$ | cars $\\left(\\times 10^6\\right)$ |\n",
    "| :---: | :---: | :---: |\n",
    "| 1950 | 0 | 53.05 |\n",
    "| 1955 | 5 | 73.04 |\n",
    "| 1960 | 10 | 98.31 |\n",
    "| 1965 | 15 | 139.78 |\n",
    "| 1970 | 20 | 193.48 |\n",
    "| 1975 | 25 | 260.20 |\n",
    "| 1980 | 30 | 320.39 |"
   ]
  },
  {
   "cell_type": "markdown",
   "metadata": {},
   "source": [
    "$$\n",
    "\\left\\{\\begin{array}{cc}\n",
    "x_1 e^{0  x_2 }&=  53.05 \\\\\n",
    "x_1 e^{5  x_2 }&=  73.04 \\\\\n",
    "x_1 e^{10 x_2 }&=  98.31 \\\\\n",
    "x_1 e^{15 x_2 }&= 139.78 \\\\\n",
    "x_1 e^{20 x_2 }&= 193.48 \\\\\n",
    "x_1 e^{25 x_2 }&= 260.20 \\\\\n",
    "x_1 e^{30 x_2 }&= 320.39\n",
    "\\end{array}\\right.\n",
    "$$"
   ]
  },
  {
   "cell_type": "markdown",
   "metadata": {},
   "source": [
    "##### Idea"
   ]
  },
  {
   "attachments": {},
   "cell_type": "markdown",
   "metadata": {},
   "source": [
    "In general, for nonlinear model, we have the following form of a system of $m$ equations in $n$ unknowns\n",
    "$$\n",
    "\\begin{aligned}\n",
    "r_1\\left(x_1, \\ldots, x_n; t_1, y_1\\right) & =0 \\\\\n",
    "& \\vdots \\\\\n",
    "r_m\\left(x_1, \\ldots, x_n; t_m, y_m\\right) & =0 .\n",
    "\\end{aligned}\n",
    "$$\n",
    "\n",
    "- Sum of square of residual\n",
    "  - where $r=\\left[r_1, \\ldots, r_m\\right]^T$.\n",
    "  - $1 / 2$ is introduced to simplify later formulas.\n",
    " \n",
    "$$\n",
    "E\\left(x_1, \\ldots, x_n\\right)=\\frac{1}{2}\\left(r_1^2+\\cdots+r_m^2\\right)=\\frac{1}{2} r^T r.\n",
    "$$\n",
    " \n",
    "- Impose $F(x)=\\nabla E(x)=\\vec 0$ as a necessary condition of minimizing $E(x)$ (Fermat):\n",
    "  - All derivatives appearing here, including gradient, is with respect to $x$, but not $y$.\n",
    "  - $0=F(x)=\\nabla E(x)=\\nabla\\left(\\frac{1}{2} r(x)^T r(x)\\right)=r(x)^T D r(x)$.\n",
    "    - Same vector twice gets rid of 1/2\n",
    "  - the last equality holds thanks to the dot product rule.\n",
    "  - This gives rise to a multi-dimensional root finding problem\n"
   ]
  },
  {
   "attachments": {},
   "cell_type": "markdown",
   "metadata": {},
   "source": [
    "- Apply Multivariate Newton's Method to $F(x)$ with a simplified Jacobian matrix. \n",
    "  <!-- - $F(x)^T=\\left(r^T D r\\right)^T=(D r)^T r$ (column).  -->\n",
    "  - $D F(x)^T=D\\left((D r)^T r\\right)=(D r)^T \\cdot D r+\\sum_{i=1}^m r_i D c_i$,\n",
    "where $c_i$ is the $i$-th column of $D r$. \n",
    "  - In the last equality, we used matrix-vector product rule.\n",
    "  - Ignore the last summation term. Then, the Newton's method reads:\n",
    "\n",
    "$$\n",
    "\\begin{split}\n",
    "x^{k+1} &= x^k - (DF(x)^T)^{-1}F(x)^T \\\\\n",
    "&\\approx x^k - ((D r)^T \\cdot D r)^{-1} D r(x)^T r(x)\n",
    "\\end{split}\n",
    "$$\n",
    "\n",
    "<!-- - Note that $D c_i=H_{r_i}$, the matrix of second partial derivatives, or Hessian, of $r_i$ :\n",
    "$$\n",
    "H_{r_i}=\\left[\\begin{array}{ccc}\n",
    "\\frac{\\partial^2 r_i}{\\partial x_1 \\partial x_1} & \\cdots & \\frac{\\partial^2 r_i}{\\partial x_1 \\partial x_n} \\\\\n",
    "\\vdots & & \\vdots \\\\\n",
    "\\frac{\\partial^2 r_i}{\\partial x_n \\partial x_1} & \\cdots & \\frac{\\partial^2 r_i}{\\partial x_n \\partial x_n}\n",
    "\\end{array}\\right] .\n",
    "$$ -->"
   ]
  },
  {
   "attachments": {},
   "cell_type": "markdown",
   "metadata": {},
   "source": [
    "**Remark** (Ignoring second order term in Jacobian)\n",
    "\n",
    "1. Ignoring the last summation saves us the trouble of computing the individual Hessians. [Nocedal, Jorge; Wright, Stephen (1999). Numerical optimization p. 259]\n",
    "    - Last sum is based on size of r. r small means good approximation\n",
    "2. This is more convincing when when the residuals, $r_i$, are small such as near the minimum. In practice, many least-squares problems have small residuals at the solution, and rapid local convergence of Gauss–Newton often is observed on these problems. ([Nocedal, Jorge; Wright, Stephen (1999). Numerical optimization p. 260])\n",
    "3. This is appropriate when the functions are only \"mildly\" nonlinear, so that the entries of $Dc_i$ are relatively small in magnitude. ([Wikipedia](https://en.wikipedia.org/wiki/Gauss%E2%80%93Newton_algorithm#Derivation_from_Newton's_method))"
   ]
  },
  {
   "cell_type": "markdown",
   "metadata": {},
   "source": [
    "##### Algorithm"
   ]
  },
  {
   "cell_type": "markdown",
   "metadata": {},
   "source": [
    "**Algorithm** (Gauss-Newton Method; Sauer (2017) p. 240)\n",
    "\n",
    "\n",
    "To minimize\n",
    "\n",
    "$$\n",
    "r_1(x)^2+\\cdots+r_m(x)^2 .\n",
    "$$\n",
    "\n",
    "Set $x^0=$ initial vector, \n",
    "\n",
    "- **for** $k=0,1,2, \\ldots$.\n",
    "$$\n",
    "\\begin{aligned}\n",
    "A & =\\operatorname{Dr}\\left(x^k\\right) \\\\\n",
    "A^T A v^k & =-A^T r\\left(x^k\\right) \\\\\n",
    "x^{k+1} & =x^k+v^k\n",
    "\\end{aligned}\n",
    "$$"
   ]
  },
  {
   "cell_type": "markdown",
   "metadata": {},
   "source": [
    "##### Some remarks"
   ]
  },
  {
   "cell_type": "markdown",
   "metadata": {},
   "source": [
    "**Remark** \n",
    "\n",
    "- The update vector, $v^k$, is computed using Gaussian elimination, rather than inverting the matrix $A^T A$. (Gauss is involved in two ways; Least square method and Gaussian elimination.) \n",
    "<!--\n",
    "- Dropping the summation part in the Jacobian is not always bad.\n",
    "  - We save computations for that.\n",
    "  - We have a symmetric matrix $A^T A$.\n",
    "  - As long as a method suggests a good update vector $v^k$, we are still in a good situation.    \n",
    "    - Jacobian serves as a \"lens,\" through which we \"see\" the right direction, and lens can be a bit altered if there is a good reason.\n",
    "- The partial derivatives are taken with respect to model parameters, not the input data.  -->\n",
    "- Convergence is not guaranteed.\n",
    "  - There may be local minima and the method can be stuck there."
   ]
  },
  {
   "cell_type": "markdown",
   "metadata": {},
   "source": [
    "#### Models with nonlinear parameters"
   ]
  },
  {
   "cell_type": "markdown",
   "metadata": {},
   "source": [
    "- This is a special case the general nonlinear least square problem, hence a special case of Gauss-Newton method.\n",
    "- This particular case is seen commonly enough to warrant special treatment. (Sauer (2017) p. 243)"
   ]
  },
  {
   "cell_type": "markdown",
   "metadata": {},
   "source": [
    "**Problem settings**\n",
    "\n",
    "$$\n",
    "\\begin{gathered}\n",
    "r_1(c)=f_c\\left(t_1\\right)-y_1 \\\\\n",
    "\\vdots \\\\\n",
    "r_m(c)=f_c\\left(t_m\\right)-y_m .\n",
    "\\end{gathered}\n",
    "$$\n",
    "\n",
    "That is, $y$ is decoupled from the other quantities."
   ]
  },
  {
   "cell_type": "markdown",
   "metadata": {},
   "source": [
    "**To do**\n",
    "\n",
    "- Apply Gauss-Newton with \n",
    "  - $(D r)_{i j}=\\frac{\\partial r_i}{\\partial c_j}=f_{c_j}\\left(t_i\\right)$"
   ]
  },
  {
   "cell_type": "markdown",
   "metadata": {},
   "source": [
    "**Remark** \n",
    "\n",
    "- (Settings) Settings can be confusing since there are many variables involved.\n",
    "  - Independent and dependent variables of the nonlinear least square problem.\n",
    "    - Independent: $c\\in R^n$\n",
    "    - Model: $f(t)$\n",
    "    - Dependent: $J(c)=\\lVert r \\rVert_2^2$ (minimization perspective) or $r\\in R^m$ (equation persepctive)\n",
    "    - Probelm: Find $c$ that minimizes $J$ over $c\\in R^n$. ($t_i$'s and $y_i$'s are fixed.)\n",
    "      - Philosophically, we accept what has happened (data) and try to find the best theory (model) that explains it.\n",
    "  - Independent and dependent variables of data fitting\n",
    "    - Independent: $t$\n",
    "    - Dependent: $y$ "
   ]
  },
  {
   "cell_type": "markdown",
   "metadata": {},
   "source": [
    "\n",
    "**Example** (Population model revisited; Sauer (2017) p. 212)\n",
    "\n",
    "Find the nonlinear least sqaure solution that minimizes the 2-norm of residual of the exponential model $y = c_1 e^{c_2 t}$ fitting the\n",
    "following world automobile supply data:\n",
    "\n",
    "| year | $t$ | cars $\\left(\\times 10^6\\right)$ |\n",
    "| :---: | :---: | :---: |\n",
    "| 1950 | 0 | 53.05 |\n",
    "| 1955 | 5 | 73.04 |\n",
    "| 1960 | 10 | 98.31 |\n",
    "| 1965 | 15 | 139.78 |\n",
    "| 1970 | 20 | 193.48 |\n",
    "| 1975 | 25 | 260.20 |\n",
    "| 1980 | 30 | 320.39 |"
   ]
  },
  {
   "cell_type": "markdown",
   "metadata": {},
   "source": [
    "$$\n",
    "\\left\\{\\begin{array}{cc}\n",
    "c_1 e^{0  c_2 }&=  53.05 \\\\\n",
    "c_1 e^{5  c_2 }&=  73.04 \\\\\n",
    "c_1 e^{10 c_2 }&=  98.31 \\\\\n",
    "c_1 e^{15 c_2 }&= 139.78 \\\\\n",
    "c_1 e^{20 c_2 }&= 193.48 \\\\\n",
    "c_1 e^{25 c_2 }&= 260.20 \\\\\n",
    "c_1 e^{30 c_2 }&= 320.39\n",
    "\\end{array}\\right.\n",
    "$$\n",
    "\n",
    "\n",
    "- Independent and dependent variables of the nonlinear least square problem.\n",
    "  - Independent: $c\\in R^2$\n",
    "  - Model: $f(t)=c_1 e^{c_2 t}$\n",
    "  - Dependent: $r=[f(t_i) - y_i]_{i=1}^7 \\in R^7$ (equation persepctive)\n",
    "  - Probelm: Find $c$ that minimizes $J(c)=\\lVert r \\rVert_2^2$ over $c\\in R^2$. ($t_i$)"
   ]
  },
  {
   "cell_type": "markdown",
   "metadata": {},
   "source": [
    "Since \n",
    "\n",
    "$$\n",
    "\\begin{split}\n",
    "(D r)_{i 1} &= \\frac{\\partial r_i}{\\partial c_1}=e^{c_2 t} \\\\\n",
    "(D r)_{i 2} &= \\frac{\\partial r_i}{\\partial c_2}=c_1 t e^{c_2 t}\n",
    "\\end{split}\n",
    "$$\n",
    "\n",
    "we have\n",
    "\n",
    "$$\n",
    "r = \n",
    "\\begin{bmatrix}\n",
    "c_1 e^{0  c_2 } -  53.05 \\\\\n",
    "c_1 e^{5  c_2 } -  73.04 \\\\\n",
    "c_1 e^{10 c_2 } -  98.31 \\\\\n",
    "c_1 e^{15 c_2 } - 139.78 \\\\\n",
    "c_1 e^{20 c_2 } - 193.48 \\\\\n",
    "c_1 e^{25 c_2 } - 260.20 \\\\\n",
    "c_1 e^{30 c_2 } - 320.39\n",
    "\\end{bmatrix},\n",
    "\\qquad\n",
    "Dr =  \n",
    "\\begin{bmatrix}\n",
    "e^{0  c_2 } & c_1  0   e^{0  c_2 }\\\\\n",
    "e^{5  c_2 } & c_1  5   e^{5  c_2 }\\\\\n",
    "e^{10 c_2 } & c_1  10  e^{10 c_2 }\\\\\n",
    "e^{15 c_2 } & c_1  15  e^{15 c_2 }\\\\\n",
    "e^{20 c_2 } & c_1  20  e^{20 c_2 }\\\\\n",
    "e^{25 c_2 } & c_1  25  e^{25 c_2 }\\\\\n",
    "e^{30 c_2 } & c_1  30  e^{30 c_2 }\n",
    "\\end{bmatrix}\n",
    "\\qquad\n",
    "\n",
    "$$\n"
   ]
  },
  {
   "cell_type": "markdown",
   "metadata": {},
   "source": [
    "- $r$: column vector ($m\\times 1$)\n",
    "- $Dr$: $m\\times n$\n",
    "\n",
    "Textbook has a typo: extra '$-$' sign in front of $Dr$."
   ]
  },
  {
   "cell_type": "code",
   "execution_count": 3,
   "metadata": {},
   "outputs": [],
   "source": [
    "import numpy as np\n",
    "\n",
    "def nonlin_ls(data, res, Jac, c0, max_iter=20, tol=1e-8):\n",
    "    \"\"\"\n",
    "    Return nonlinear least square solution using Gauss-Newton method.\n",
    "\n",
    "    Input:\n",
    "        data (array): 2D array \n",
    "            row 0: independent variable data of the model\n",
    "            row 1: dependent variable data of the model\n",
    "        res (fn): residual, a function of c (model parameter) \n",
    "            and t (independent variable of the model)\n",
    "        Jac (fn): Jacobian, a function of c (model parameter) \n",
    "            and t (independent variable of the model)\n",
    "        x0 (array): initial guess\n",
    "        par (dict): various parameters\n",
    "    Output:\n",
    "        x (array): nonlinear least square solution.\n",
    "    \"\"\"\n",
    "    t = data[0, :]\n",
    "    y = data[1, :]\n",
    "\n",
    "    c = c0\n",
    "\n",
    "    for j in range(max_iter):\n",
    "        r = res(c, t, y)\n",
    "        if np.linalg.norm(r) < tol:\n",
    "            break\n",
    "        \n",
    "        A = Jac(c, t, y)\n",
    "        \n",
    "        v = np.linalg.solve(A.T @ A, - A.T @ r)\n",
    "        \n",
    "        c = c + v\n",
    "    \n",
    "    return c, j"
   ]
  },
  {
   "cell_type": "code",
   "execution_count": 4,
   "metadata": {},
   "outputs": [
    {
     "name": "stdout",
     "output_type": "stream",
     "text": [
      " nonlinear least square solution [58.50774  0.05772] found by 5 iteration\n"
     ]
    }
   ],
   "source": [
    "data =  np.array([[0 ,5 ,10,15,20,25,30],\n",
    "                [53.05, 73.04, 98.31, 139.78, 193.48, 260.20, 320.39]])\n",
    "\n",
    "# residual and Jacobian needs broadcasting: t.reshape(-1,1), y.reshape(-1,1)\n",
    "res = lambda c, t, y: c[0]*np.exp(c[1]*t) - y\n",
    "Jac = lambda c, t, y: np.column_stack((np.exp(c[1]*t), c[0]*t*np.exp(c[1]*t)))\n",
    "\n",
    "c0 = np.array([50., 0.1])\n",
    "\n",
    "c, iter = nonlin_ls(data, res, Jac, c0, max_iter=5)\n",
    "\n",
    "with np.printoptions(precision=5, suppress=True):\n",
    "    print(f\" nonlinear least square solution {c} found by {iter+1} iteration\")"
   ]
  },
  {
   "cell_type": "markdown",
   "metadata": {},
   "source": [
    "**Comparison with data linearization**"
   ]
  },
  {
   "cell_type": "code",
   "execution_count": 1,
   "metadata": {},
   "outputs": [],
   "source": [
    "import numpy as np\n",
    "import matplotlib.pyplot as plt\n",
    "\n",
    "# number of data points/observations\n",
    "m = 7\n",
    "y = np.array([53.05, 73.04, 98.31, 139.78, 193.48, 260.20, 320.39])\n",
    "# 1950 is treated as 0\n",
    "t = np.arange(m)*5.\n",
    "\n",
    "# vector of unknowns\n",
    "n = 2\n",
    "c_dat_lin = np.zeros(n)\n",
    "\n",
    "# matrix of least squares\n",
    "A = np.column_stack((np.ones(m), t))\n",
    "\n",
    "# vector of observations\n",
    "b = np.log(y)\n",
    "\n",
    "# least squares solution\n",
    "c_dat_lin = np.linalg.solve(A.T @ A, A.T @ b)\n",
    "\n",
    "# invert the transoformation for c_1\n",
    "c_dat_lin[0] = np.exp(c_dat_lin[0])\n"
   ]
  },
  {
   "cell_type": "code",
   "execution_count": 5,
   "metadata": {},
   "outputs": [
    {
     "name": "stdout",
     "output_type": "stream",
     "text": [
      "                 [RMSE]                 \n",
      "     Nonlinear        Data linearization \n",
      " 7.676586942505351    9.555233720713337  \n"
     ]
    },
    {
     "data": {
      "image/png": "[encoded data removed]",
      "text/plain": [
       "<Figure size 640x480 with 1 Axes>"
      ]
     },
     "metadata": {},
     "output_type": "display_data"
    }
   ],
   "source": [
    "# AI usage: initial plotting block is doen with copilot\n",
    "\n",
    "# Calculate the predicted values\n",
    "y_pred1 = c_dat_lin[0]*np.exp(c_dat_lin[1]*t)\n",
    "y_pred2 = c[0]*np.exp(c[1]*t)\n",
    "\n",
    "# Calculate the root mean squared error\n",
    "rmse_dat_lin = np.sqrt(np.mean((y - y_pred1)**2))\n",
    "rmse_nonlin = np.sqrt(np.mean((y - y_pred2)**2))\n",
    "\n",
    "print(f\"{'[RMSE]':^40}\")\n",
    "print(f\"{'Nonlinear':^20} {'Data linearization':^20}\")\n",
    "print(f\"{rmse_nonlin:^20} {rmse_dat_lin:^20}\")\n",
    "\n",
    "# Plot the data points\n",
    "plt.scatter(t, y, label='Data')\n",
    "\n",
    "# Plot the model - data linearization\n",
    "x = np.linspace(t[0], t[-1], 100)\n",
    "y1 = c_dat_lin[0]*np.exp(c_dat_lin[1]*x)\n",
    "plt.plot(x, y1, color='green', label='Data linearization')\n",
    "\n",
    "y2 = c[0]*np.exp(c[1]*x)\n",
    "plt.plot(x, y2, color='orange', label='Nonlinear LS')\n",
    "\n",
    "# Set labels and title\n",
    "plt.xlabel('x')\n",
    "plt.ylabel('y')\n",
    "plt.title(f'Car Population growth')\n",
    "plt.ylim(0, np.max(y)*1.1)\n",
    "\n",
    "# Show legend\n",
    "plt.legend()\n",
    "\n",
    "# Show the plot\n",
    "plt.show()\n"
   ]
  },
  {
   "cell_type": "markdown",
   "metadata": {},
   "source": [
    "#### Levenberg-Marquardt method"
   ]
  },
  {
   "cell_type": "markdown",
   "metadata": {},
   "source": [
    "**What is it?**\n",
    "\n",
    "- A modified version of Gauss-Newton method to deal with ill-conditioned nonlinear least sqaure problem.\n",
    "  - Here, we are talking about ill-conditioned Jacobian."
   ]
  },
  {
   "cell_type": "markdown",
   "metadata": {},
   "source": [
    "**Idea**\n",
    "\n",
    "- \"Dial up diagonal entries\"\n",
    "  - $(A^T A + \\lambda \\mathrm{diag}(A^T A)) v^k  =-A^T r\\left(x^k\\right)$ in place of $A^T A v^k =-A^T r\\left(x^k\\right)$\n",
    "  - $\\lambda\\ge 0$ is a user-tuned parameter.\n",
    "  - Everything else is the same as Gauss-Newton.\n"
   ]
  },
  {
   "cell_type": "markdown",
   "metadata": {},
   "source": [
    "**Remark**\n",
    "\n",
    "- (Conditioning) Levenberg-Marquardt method improves the condition number and generally allows the method to converge from a broader set of initial guesses than Gauss-Newton. (Sauer (2017) p. 245)\n",
    "- (History) The method originated by a suggestion in Levenberg [1944] to add $\\lambda I$ to $A T A$ in Gauss–Newton to improve its conditioning. Several years later, D. Marquardt, a\n",
    "statistician at DuPont, improved on Levenberg’s suggestion by replacing the identity matrix with the diagonal of A T A (Marquardt [1963]). (Sauer (2017) p. 246)\n",
    "- (Parameter tuning) Although we have treated $\\lambda$ as a constant for simplicity, the method is often applied adaptively with a varying $\\lambda$. A common strategy is to continue to decrease $\\lambda$ by a factor of 10 on each iteration step as long as the residual sum of squared errors is decreased by the step, and if the sum increases, to reject the step and increase $\\lambda$ by a factor of 10. (Sauer (2017) p. 246)"
   ]
  },
  {
   "cell_type": "markdown",
   "metadata": {},
   "source": [
    "### Appendix"
   ]
  },
  {
   "cell_type": "markdown",
   "metadata": {},
   "source": [
    "#### Why translation, not Krylov space itself"
   ]
  },
  {
   "cell_type": "markdown",
   "metadata": {},
   "source": [
    "**Remark** (Why $x_0 + K_{k-1}$, not $K_{k-1}$?)\n",
    "\n",
    "- If we seek approximate solution $x_k$ directly from $K_{k-1}$, we have some issues in Observation 2.\n",
    "  - Now, $x_k\\in K_{k-1}=\\mathrm{span} Q_{k}$, so $x_k=Q_k c$ for some $c\\in R^k$. \n",
    "\n",
    "$$\n",
    "\\begin{split}\n",
    "\\| r_k \\|_2 = \\| b - Ax_k \\|_2 = \\| b- AQ_k c \\|_2 = \\| b- Q_{k+1}H_k c \\|_2 \\\\\n",
    "(= \\| Q_{k+1}^T b - H_k c \\|_2?) \n",
    "\\end{split}\n",
    "$$\n",
    "\n",
    "- The last equality in question may not hold.\n",
    "  - Before, we had $r$ in place $b$ and $r\\in K_{k}=\\mathrm{span} Q_{k+1}$ was used.\n",
    "  - However, there is no guarantee that $b\\in K_{k}=\\mathrm{span} Q_{k+1}$.\n",
    "  - Then, we need to solve more expensive problem $\\mathrm{minimize }\\| b- Q_{k+1}H_k c \\|_2$ due to matrix multiplication.\n",
    "- Also, even if this issue could be somehow resolved, this leads to more computation because Observation 3 does not hold for $b$. We had\n",
    "  - $Q_{k+1}^T r=\\left[\\begin{array}{llll}\\|r\\|_2 & 0 & 0 & \\ldots 0\\end{array}\\right]^T$ (length $k+1$), but now\n",
    "  - $Q_{k+1}^T b$ must be computed."
   ]
  },
  {
   "cell_type": "markdown",
   "metadata": {},
   "source": [
    "#### Lucky break down of GMRES"
   ]
  },
  {
   "cell_type": "markdown",
   "metadata": {},
   "source": [
    "Suppose $h_{k+1,k}=\\lVert y \\rVert_2=0$ in the GMRES algorithm for the first time at $k$-th iteration. Then, we have\n",
    "\n",
    "1. $A K_{k-1} = K_{k-1}$.\n",
    "   - $A K_{k-1} \\subset K_{k-1}$ (i.e., $K_{k-1}$ is an invariant subspace of $R^m$ under $A$) \n",
    "     - First, $y = Aq_k - \\mathrm{Proj}_{K_{k-1}} Aq_k$ since \n",
    "       - $\\mathrm{span}\\ Q_k = K_{k-1}$ and \n",
    "       - $y = Aq_k - ((Aq_k)^T q_1) q_1 - \\cdots - ((Aq_k)^T q_k) q_k$. \n",
    "     - Thus, $Aq_k = \\mathrm{Proj}_{K_{k-1}} Aq_k \\in {K_{k-1}}$ from $y=0$. \n",
    "     - Also, $Aq_i  \\in {K_{k-1}}$ for $i=1,2,\\cdots, k-1$ since\n",
    "       - $Aq_i \\in A \\mathrm{span}\\ Q_i = A K_{i-1} \\subset K_i$ and $K_{i} \\subset {K_{k-1}}$.\n",
    "     - The last two bullets of the same level implies $A K_{k-1} = A \\mathrm{span}\\ Q_k \\subset K_{k-1}$.\n",
    "   - $\\{r, Ar, \\cdots, A^{k-1}r\\}$ is a linearly independent set because\n",
    "     - $K_{k-1}=\\mathrm{span} \\ \\{ r, Ar, \\cdots, A^{k-1}r \\}=\\mathrm{span} \\ Q_k$ is $i$-dimensional.\n",
    "   - $A\\{r, Ar, \\cdots, A^{k-1}r\\}$ is a linearly independent set because \n",
    "     - nonsingular matrix $A$ takes a linear independent sets to a linearly independent set.\n",
    "   - Combining the two linear independence and $A K_{k-1} \\subset K_{k-1}$ shows that $A K_{k-1} = K_{k-1}$.\n",
    "2. $x \\in x_0 + K_{k-1}$.\n",
    "   - Observe $A(x-x_0) = Ax - Ax_0 = b - Ax_0 = r = \\in K_0 \\subset K_{k-1} \\subset A K_{k-1}$.\n",
    "   - In other words, $A(x-x_0) = \\sum_{j=1}^k a_j A^j r$ for some $a_j$'s. \n",
    "   - By canceling an $A$, we have $x-x_0 = \\sum_{j=1}^k a_j A^{j-1} r \\in K_{k-1}$, namely, $x - x_0 \\in K_{k-1}$, which is equivalent to $x \\in x_0 + K_{k-1}$.\n",
    "3. $x_k = x$.\n",
    "   - Since $x_k$ is the (unique) least square solution over $x_0 + K_{k-1}$, it minimizes the norm of residual $\\lVert r_k \\rVert = \\lVert b - Ax_k \\rVert \\ge 0$. \n",
    "   - However, $x \\in x_0 + K_{k-1}$ also leads to the smallest possible norm of residual $\\lVert b - Ax \\rVert = \\lVert \\vec{0} \\rVert = 0$. \n",
    "   - Therefore, $x_k = x$.\n"
   ]
  },
  {
   "cell_type": "markdown",
   "metadata": {},
   "source": [
    "#### More information on GMRES"
   ]
  },
  {
   "cell_type": "markdown",
   "metadata": {},
   "source": [
    "- Convergence\n",
    "  - (Pessimistic) For every nonincreasing sequence $a_1, \\cdots, a_{m−1}, a_m = 0$, one can find a matrix A such that the $\\|r_n\\| = a_n$ for all $n$, where $r_n$ is the $n$-th residual. In particular, it is possible to find a matrix for which the residual stays constant for $m − 1$ iterations, and only drops to zero at the last iteration. (Reference: [Wikipedia](https://en.wikipedia.org/wiki/Generalized_minimal_residual_method#Convergence) and also the instructor heard this in a plenary talk of a very reliable conference, though details not remembered. I remember I got surprised by the fact that even solving a linear system can be inherently difficult.)\n",
    "  - (Optimistic in practice) In practice, though, GMRES often performs well. This can be proven in specific situations. \n",
    "- Relationship with MINRES\n",
    "  - MINRES is similar to Conjugate Gradient (CG) method, but it assumes the matrix to be only symmetric, allowing indefinite matrices, whereas CG assumes it to be symmetric positive definite.\n",
    "  - The GMRES method is essentially a generalization of MINRES for arbitrary matrices. (See the technical remark for more detials if interested.)\n",
    "- $H_k$ appearing in the GMRES is an upper (nonsquare) *Hessenberg matrix*. \n",
    "  - A upper Hessenberg matrix has zero entries below tridiaginal.\n",
    "  - This remark is meant to familarize with terminology.\n",
    "  "
   ]
  },
  {
   "cell_type": "markdown",
   "metadata": {},
   "source": [
    "###### Technical remarks"
   ]
  },
  {
   "cell_type": "markdown",
   "metadata": {},
   "source": [
    "**Remark** (Technical remarks on GMRES)\n",
    "\n",
    "- (GMRES and MINRES) The GMRES method is essentially a generalization of MINRES for arbitrary matrices. Both minimize the 2-norm of the residual and do the same calculations in exact arithmetic when the matrix is symmetric. MINRES is a short-recurrence method with a constant memory requirement, whereas GMRES requires storing the whole Krylov space, so its memory requirement is roughly proportional to the number of iterations. On the other hand, GMRES tends to suffer less from loss of orthogonality. (Reference: Wikipedia, one of whose the original references is broken; treat this remark as advice, but not as truth before confirmation.)\n",
    "- (No Krylov space; further study needed) The Arnoldi iteration (computations for $q_j$'s) reduces to the Lanczos iteration for symmetric matrices. The corresponding Krylov subspace method is the minimal residual method (MinRes) of Paige and Saunders. \n",
    "    - Unlike the unsymmetric case, the MinRes method is given by a three-term recurrence relation. \n",
    "    - It can be shown that there is no Krylov subspace method for general matrices, which is given by a short recurrence relation and yet minimizes the norms of the residuals, as GMRES does. (Reference: [Wikipedia](https://en.wikipedia.org/wiki/Generalized_minimal_residual_method#Comparison_with_other_solvers))\n",
    "- (Hessenberg matrix) Any matrix is unitarily similar to Henssenberg. (Reference: [Wikipedia](https://en.wikipedia.org/wiki/Hessenberg_matrix))\n",
    "    - The validity of this statement is trivial by *Schur triangularization* or *Schur decomposition* ([Schur decomposition Wikipedia](https://en.wikipedia.org/wiki/Schur_decomposition)).\n",
    "  - When triangularization is needed, computing a Hessenberg matrix, then moving on to a triangular matrix is more efficient. (See more detailed remark on [Wikipedia](https://en.wikipedia.org/wiki/Hessenberg_matrix#Computer_programming))\n",
    "- (Convergence of GMRES) \n",
    "  - According to Greenbaum, Pták and Strakoš states that for every nonincreasing sequence $a_1, \\cdots, a_{m−1}, a_m = 0$, one can find a matrix A such that the $\\|r_n\\| = a_n$ for all $n$, where $r_n$ is the $n$-th residual. In particular, it is possible to find a matrix for which the residual stays constant for $m − 1$ iterations, and only drops to zero at the last iteration. (Reference: [Wikipedia](https://en.wikipedia.org/wiki/Generalized_minimal_residual_method#Convergence) and also the instructor heard this in a plenary talk of a very reliable conference, though details not remembered. I remember I got surprised by the fact that even solving a linear system can be inherently difficult.)\n",
    "  - In practice, though, GMRES often performs well. This can be proven in specific situations. If the symmetric part of $A$, that is $\\left(A^T+A\\right) / 2$, is positive definite, then\n",
    "$$\n",
    "\\left\\|r_n\\right\\| \\leq\\left(1-\\frac{\\lambda_{\\min }^2\\left(1 / 2\\left(A^T+A\\right)\\right)}{\\lambda_{\\max }\\left(A^T A\\right)}\\right)^{n / 2}\\left\\|r_0\\right\\|,\n",
    "$$\n",
    "where $\\lambda_{\\min }(M)$ and $\\lambda_{\\max }(M)$ denote the smallest and largest eigenvalue of the matrix $M$, respectively. \n",
    "\n",
    "If $A$ is symmetric and positive definite, then we even have\n",
    "$$\n",
    "\\left\\|r_n\\right\\| \\leq\\left(\\frac{\\kappa_2(A)^2-1}{\\kappa_2(A)^2}\\right)^{n / 2}\\left\\|r_0\\right\\| .\n",
    "$$\n",
    "where $\\kappa_2(A)$ denotes the condition number of $A$ in the Euclidean norm.\n",
    "\n",
    "In the general case, where $A$ is not positive definite, we have\n",
    "$$\n",
    "\\frac{\\left\\|r_n\\right\\|}{\\|b\\|} \\leq \\inf _{p \\in P_n}\\|p(A)\\| \\leq \\kappa_2(V) \\inf _{p \\in P_n} \\max _{\\lambda \\in \\sigma(A)}|p(\\lambda)|,\n",
    "$$\n",
    "where $P_n$ denotes the set of polynomials of degree at most $n$ with $p(0)=1, V$ is the matrix appearing in the spectral decomposition of $A$, and $\\sigma(A)$ is the spectrum of $A$. Roughly speaking, this says that fast convergence occurs when the eigenvalues of $A$ are clustered away from the origin and $A$ is not too far from normality. (Reference: [Wikipedia](https://en.wikipedia.org/wiki/Generalized_minimal_residual_method#Convergence), whose original reference is Lloyd N. Trefethen and David Bau, III, Numerical Linear Algebra, Society for Industrial and Applied Mathematics, 1997)"
   ]
  },
  {
   "cell_type": "markdown",
   "metadata": {
    "vscode": {
     "languageId": "plaintext"
    }
   },
   "source": [
    "---\n",
    "This work is licensed under [Creative Commons Attribution-ShareAlike 4.0 International](https://creativecommons.org/licenses/by-sa/4.0/)"
   ]
  }
 ],
 "metadata": {
  "kernelspec": {
   "display_name": ".venv",
   "language": "python",
   "name": "python3"
  },
  "language_info": {
   "codemirror_mode": {
    "name": "ipython",
    "version": 3
   },
   "file_extension": ".py",
   "mimetype": "text/x-python",
   "name": "python",
   "nbconvert_exporter": "python",
   "pygments_lexer": "ipython3",
   "version": "3.10.2 (v3.10.2:a58ebcc701, Jan 13 2022, 14:50:16) [Clang 13.0.0 (clang-1300.0.29.30)]"
  },
  "orig_nbformat": 4,
  "vscode": {
   "interpreter": {
    "hash": "8ee9667ba3bbd897f72f7fed856faa8f88e2b94b92926ffb355411b300d19495"
   }
  }
 },
 "nbformat": 4,
 "nbformat_minor": 2
}
